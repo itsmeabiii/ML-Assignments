{
 "cells": [
  {
   "cell_type": "code",
   "execution_count": 4,
   "id": "ff62cd1d",
   "metadata": {},
   "outputs": [],
   "source": [
    "#### Standard Libraries #####\n",
    "import numpy as np\n",
    "import pandas as pd\n",
    "import matplotlib.pyplot as plt\n",
    "import seaborn as sns\n",
    "sns.set_style(\"whitegrid\")\n",
    "sns.set_context(\"poster\")\n",
    "\n",
    "%matplotlib inline\n",
    "\n",
    "##### For Preprocessing #####\n",
    "from sklearn.model_selection import train_test_split\n",
    "from sklearn.preprocessing import PolynomialFeatures\n",
    "\n",
    "##### For Building the Model #####\n",
    "from sklearn.linear_model import LinearRegression, Lasso, Ridge\n",
    "from sklearn.pipeline import make_pipeline\n",
    "\n",
    "##### For Validation of the Model #####\n",
    "from sklearn.metrics import r2_score, mean_absolute_error, mean_squared_error\n",
    "from sklearn.model_selection import cross_val_score"
   ]
  },
  {
   "cell_type": "markdown",
   "id": "954e9f34",
   "metadata": {},
   "source": [
    "# Load dataset"
   ]
  },
  {
   "cell_type": "code",
   "execution_count": 3,
   "id": "1b41982d",
   "metadata": {},
   "outputs": [
    {
     "data": {
      "text/html": [
       "<div>\n",
       "<style scoped>\n",
       "    .dataframe tbody tr th:only-of-type {\n",
       "        vertical-align: middle;\n",
       "    }\n",
       "\n",
       "    .dataframe tbody tr th {\n",
       "        vertical-align: top;\n",
       "    }\n",
       "\n",
       "    .dataframe thead th {\n",
       "        text-align: right;\n",
       "    }\n",
       "</style>\n",
       "<table border=\"1\" class=\"dataframe\">\n",
       "  <thead>\n",
       "    <tr style=\"text-align: right;\">\n",
       "      <th></th>\n",
       "      <th>TV</th>\n",
       "      <th>radio</th>\n",
       "      <th>newspaper</th>\n",
       "      <th>sales</th>\n",
       "    </tr>\n",
       "  </thead>\n",
       "  <tbody>\n",
       "    <tr>\n",
       "      <th>0</th>\n",
       "      <td>230.1</td>\n",
       "      <td>37.8</td>\n",
       "      <td>69.2</td>\n",
       "      <td>22.1</td>\n",
       "    </tr>\n",
       "    <tr>\n",
       "      <th>1</th>\n",
       "      <td>44.5</td>\n",
       "      <td>39.3</td>\n",
       "      <td>45.1</td>\n",
       "      <td>10.4</td>\n",
       "    </tr>\n",
       "    <tr>\n",
       "      <th>2</th>\n",
       "      <td>17.2</td>\n",
       "      <td>45.9</td>\n",
       "      <td>69.3</td>\n",
       "      <td>9.3</td>\n",
       "    </tr>\n",
       "    <tr>\n",
       "      <th>3</th>\n",
       "      <td>151.5</td>\n",
       "      <td>41.3</td>\n",
       "      <td>58.5</td>\n",
       "      <td>18.5</td>\n",
       "    </tr>\n",
       "    <tr>\n",
       "      <th>4</th>\n",
       "      <td>180.8</td>\n",
       "      <td>10.8</td>\n",
       "      <td>58.4</td>\n",
       "      <td>12.9</td>\n",
       "    </tr>\n",
       "    <tr>\n",
       "      <th>...</th>\n",
       "      <td>...</td>\n",
       "      <td>...</td>\n",
       "      <td>...</td>\n",
       "      <td>...</td>\n",
       "    </tr>\n",
       "    <tr>\n",
       "      <th>195</th>\n",
       "      <td>38.2</td>\n",
       "      <td>3.7</td>\n",
       "      <td>13.8</td>\n",
       "      <td>7.6</td>\n",
       "    </tr>\n",
       "    <tr>\n",
       "      <th>196</th>\n",
       "      <td>94.2</td>\n",
       "      <td>4.9</td>\n",
       "      <td>8.1</td>\n",
       "      <td>9.7</td>\n",
       "    </tr>\n",
       "    <tr>\n",
       "      <th>197</th>\n",
       "      <td>177.0</td>\n",
       "      <td>9.3</td>\n",
       "      <td>6.4</td>\n",
       "      <td>12.8</td>\n",
       "    </tr>\n",
       "    <tr>\n",
       "      <th>198</th>\n",
       "      <td>283.6</td>\n",
       "      <td>42.0</td>\n",
       "      <td>66.2</td>\n",
       "      <td>25.5</td>\n",
       "    </tr>\n",
       "    <tr>\n",
       "      <th>199</th>\n",
       "      <td>232.1</td>\n",
       "      <td>8.6</td>\n",
       "      <td>8.7</td>\n",
       "      <td>13.4</td>\n",
       "    </tr>\n",
       "  </tbody>\n",
       "</table>\n",
       "<p>200 rows × 4 columns</p>\n",
       "</div>"
      ],
      "text/plain": [
       "        TV  radio  newspaper  sales\n",
       "0    230.1   37.8       69.2   22.1\n",
       "1     44.5   39.3       45.1   10.4\n",
       "2     17.2   45.9       69.3    9.3\n",
       "3    151.5   41.3       58.5   18.5\n",
       "4    180.8   10.8       58.4   12.9\n",
       "..     ...    ...        ...    ...\n",
       "195   38.2    3.7       13.8    7.6\n",
       "196   94.2    4.9        8.1    9.7\n",
       "197  177.0    9.3        6.4   12.8\n",
       "198  283.6   42.0       66.2   25.5\n",
       "199  232.1    8.6        8.7   13.4\n",
       "\n",
       "[200 rows x 4 columns]"
      ]
     },
     "execution_count": 3,
     "metadata": {},
     "output_type": "execute_result"
    }
   ],
   "source": [
    "data = pd.read_csv(\"data/Advertising.csv\")\n",
    "data"
   ]
  },
  {
   "cell_type": "markdown",
   "id": "3b9634af",
   "metadata": {},
   "source": [
    "# Normalize dataset"
   ]
  },
  {
   "cell_type": "code",
   "execution_count": 6,
   "id": "8f767a25",
   "metadata": {},
   "outputs": [
    {
     "data": {
      "text/html": [
       "<div>\n",
       "<style scoped>\n",
       "    .dataframe tbody tr th:only-of-type {\n",
       "        vertical-align: middle;\n",
       "    }\n",
       "\n",
       "    .dataframe tbody tr th {\n",
       "        vertical-align: top;\n",
       "    }\n",
       "\n",
       "    .dataframe thead th {\n",
       "        text-align: right;\n",
       "    }\n",
       "</style>\n",
       "<table border=\"1\" class=\"dataframe\">\n",
       "  <thead>\n",
       "    <tr style=\"text-align: right;\">\n",
       "      <th></th>\n",
       "      <th>TV</th>\n",
       "      <th>radio</th>\n",
       "      <th>newspaper</th>\n",
       "      <th>sales</th>\n",
       "    </tr>\n",
       "  </thead>\n",
       "  <tbody>\n",
       "    <tr>\n",
       "      <th>0</th>\n",
       "      <td>0.967425</td>\n",
       "      <td>0.979066</td>\n",
       "      <td>1.774493</td>\n",
       "      <td>1.548168</td>\n",
       "    </tr>\n",
       "    <tr>\n",
       "      <th>1</th>\n",
       "      <td>-1.194379</td>\n",
       "      <td>1.080097</td>\n",
       "      <td>0.667903</td>\n",
       "      <td>-0.694304</td>\n",
       "    </tr>\n",
       "    <tr>\n",
       "      <th>2</th>\n",
       "      <td>-1.512360</td>\n",
       "      <td>1.524637</td>\n",
       "      <td>1.779084</td>\n",
       "      <td>-0.905135</td>\n",
       "    </tr>\n",
       "    <tr>\n",
       "      <th>3</th>\n",
       "      <td>0.051919</td>\n",
       "      <td>1.214806</td>\n",
       "      <td>1.283185</td>\n",
       "      <td>0.858177</td>\n",
       "    </tr>\n",
       "    <tr>\n",
       "      <th>4</th>\n",
       "      <td>0.393196</td>\n",
       "      <td>-0.839507</td>\n",
       "      <td>1.278593</td>\n",
       "      <td>-0.215143</td>\n",
       "    </tr>\n",
       "    <tr>\n",
       "      <th>...</th>\n",
       "      <td>...</td>\n",
       "      <td>...</td>\n",
       "      <td>...</td>\n",
       "      <td>...</td>\n",
       "    </tr>\n",
       "    <tr>\n",
       "      <th>195</th>\n",
       "      <td>-1.267759</td>\n",
       "      <td>-1.317724</td>\n",
       "      <td>-0.769287</td>\n",
       "      <td>-1.230964</td>\n",
       "    </tr>\n",
       "    <tr>\n",
       "      <th>196</th>\n",
       "      <td>-0.615491</td>\n",
       "      <td>-1.236899</td>\n",
       "      <td>-1.031011</td>\n",
       "      <td>-0.828469</td>\n",
       "    </tr>\n",
       "    <tr>\n",
       "      <th>197</th>\n",
       "      <td>0.348934</td>\n",
       "      <td>-0.940539</td>\n",
       "      <td>-1.109069</td>\n",
       "      <td>-0.234310</td>\n",
       "    </tr>\n",
       "    <tr>\n",
       "      <th>198</th>\n",
       "      <td>1.590574</td>\n",
       "      <td>1.261955</td>\n",
       "      <td>1.636743</td>\n",
       "      <td>2.199827</td>\n",
       "    </tr>\n",
       "    <tr>\n",
       "      <th>199</th>\n",
       "      <td>0.990720</td>\n",
       "      <td>-0.987687</td>\n",
       "      <td>-1.003461</td>\n",
       "      <td>-0.119311</td>\n",
       "    </tr>\n",
       "  </tbody>\n",
       "</table>\n",
       "<p>200 rows × 4 columns</p>\n",
       "</div>"
      ],
      "text/plain": [
       "           TV     radio  newspaper     sales\n",
       "0    0.967425  0.979066   1.774493  1.548168\n",
       "1   -1.194379  1.080097   0.667903 -0.694304\n",
       "2   -1.512360  1.524637   1.779084 -0.905135\n",
       "3    0.051919  1.214806   1.283185  0.858177\n",
       "4    0.393196 -0.839507   1.278593 -0.215143\n",
       "..        ...       ...        ...       ...\n",
       "195 -1.267759 -1.317724  -0.769287 -1.230964\n",
       "196 -0.615491 -1.236899  -1.031011 -0.828469\n",
       "197  0.348934 -0.940539  -1.109069 -0.234310\n",
       "198  1.590574  1.261955   1.636743  2.199827\n",
       "199  0.990720 -0.987687  -1.003461 -0.119311\n",
       "\n",
       "[200 rows x 4 columns]"
      ]
     },
     "execution_count": 6,
     "metadata": {},
     "output_type": "execute_result"
    }
   ],
   "source": [
    "copy_of_data= data[data.columns]\n",
    "data_std = copy_of_data.std()\n",
    "data_mean = copy_of_data.mean()\n",
    "data[data.columns] = (copy_of_data-data_mean)/data_std \n",
    "data"
   ]
  },
  {
   "cell_type": "markdown",
   "id": "d1442583",
   "metadata": {},
   "source": [
    "# Add a column with 1 as values"
   ]
  },
  {
   "cell_type": "code",
   "execution_count": 7,
   "id": "2229a7c3",
   "metadata": {},
   "outputs": [
    {
     "data": {
      "text/html": [
       "<div>\n",
       "<style scoped>\n",
       "    .dataframe tbody tr th:only-of-type {\n",
       "        vertical-align: middle;\n",
       "    }\n",
       "\n",
       "    .dataframe tbody tr th {\n",
       "        vertical-align: top;\n",
       "    }\n",
       "\n",
       "    .dataframe thead th {\n",
       "        text-align: right;\n",
       "    }\n",
       "</style>\n",
       "<table border=\"1\" class=\"dataframe\">\n",
       "  <thead>\n",
       "    <tr style=\"text-align: right;\">\n",
       "      <th></th>\n",
       "      <th>Bias</th>\n",
       "      <th>TV</th>\n",
       "      <th>radio</th>\n",
       "      <th>newspaper</th>\n",
       "      <th>sales</th>\n",
       "    </tr>\n",
       "  </thead>\n",
       "  <tbody>\n",
       "    <tr>\n",
       "      <th>0</th>\n",
       "      <td>1</td>\n",
       "      <td>0.967425</td>\n",
       "      <td>0.979066</td>\n",
       "      <td>1.774493</td>\n",
       "      <td>1.548168</td>\n",
       "    </tr>\n",
       "    <tr>\n",
       "      <th>1</th>\n",
       "      <td>1</td>\n",
       "      <td>-1.194379</td>\n",
       "      <td>1.080097</td>\n",
       "      <td>0.667903</td>\n",
       "      <td>-0.694304</td>\n",
       "    </tr>\n",
       "    <tr>\n",
       "      <th>2</th>\n",
       "      <td>1</td>\n",
       "      <td>-1.512360</td>\n",
       "      <td>1.524637</td>\n",
       "      <td>1.779084</td>\n",
       "      <td>-0.905135</td>\n",
       "    </tr>\n",
       "    <tr>\n",
       "      <th>3</th>\n",
       "      <td>1</td>\n",
       "      <td>0.051919</td>\n",
       "      <td>1.214806</td>\n",
       "      <td>1.283185</td>\n",
       "      <td>0.858177</td>\n",
       "    </tr>\n",
       "    <tr>\n",
       "      <th>4</th>\n",
       "      <td>1</td>\n",
       "      <td>0.393196</td>\n",
       "      <td>-0.839507</td>\n",
       "      <td>1.278593</td>\n",
       "      <td>-0.215143</td>\n",
       "    </tr>\n",
       "    <tr>\n",
       "      <th>...</th>\n",
       "      <td>...</td>\n",
       "      <td>...</td>\n",
       "      <td>...</td>\n",
       "      <td>...</td>\n",
       "      <td>...</td>\n",
       "    </tr>\n",
       "    <tr>\n",
       "      <th>195</th>\n",
       "      <td>1</td>\n",
       "      <td>-1.267759</td>\n",
       "      <td>-1.317724</td>\n",
       "      <td>-0.769287</td>\n",
       "      <td>-1.230964</td>\n",
       "    </tr>\n",
       "    <tr>\n",
       "      <th>196</th>\n",
       "      <td>1</td>\n",
       "      <td>-0.615491</td>\n",
       "      <td>-1.236899</td>\n",
       "      <td>-1.031011</td>\n",
       "      <td>-0.828469</td>\n",
       "    </tr>\n",
       "    <tr>\n",
       "      <th>197</th>\n",
       "      <td>1</td>\n",
       "      <td>0.348934</td>\n",
       "      <td>-0.940539</td>\n",
       "      <td>-1.109069</td>\n",
       "      <td>-0.234310</td>\n",
       "    </tr>\n",
       "    <tr>\n",
       "      <th>198</th>\n",
       "      <td>1</td>\n",
       "      <td>1.590574</td>\n",
       "      <td>1.261955</td>\n",
       "      <td>1.636743</td>\n",
       "      <td>2.199827</td>\n",
       "    </tr>\n",
       "    <tr>\n",
       "      <th>199</th>\n",
       "      <td>1</td>\n",
       "      <td>0.990720</td>\n",
       "      <td>-0.987687</td>\n",
       "      <td>-1.003461</td>\n",
       "      <td>-0.119311</td>\n",
       "    </tr>\n",
       "  </tbody>\n",
       "</table>\n",
       "<p>200 rows × 5 columns</p>\n",
       "</div>"
      ],
      "text/plain": [
       "     Bias        TV     radio  newspaper     sales\n",
       "0       1  0.967425  0.979066   1.774493  1.548168\n",
       "1       1 -1.194379  1.080097   0.667903 -0.694304\n",
       "2       1 -1.512360  1.524637   1.779084 -0.905135\n",
       "3       1  0.051919  1.214806   1.283185  0.858177\n",
       "4       1  0.393196 -0.839507   1.278593 -0.215143\n",
       "..    ...       ...       ...        ...       ...\n",
       "195     1 -1.267759 -1.317724  -0.769287 -1.230964\n",
       "196     1 -0.615491 -1.236899  -1.031011 -0.828469\n",
       "197     1  0.348934 -0.940539  -1.109069 -0.234310\n",
       "198     1  1.590574  1.261955   1.636743  2.199827\n",
       "199     1  0.990720 -0.987687  -1.003461 -0.119311\n",
       "\n",
       "[200 rows x 5 columns]"
      ]
     },
     "execution_count": 7,
     "metadata": {},
     "output_type": "execute_result"
    }
   ],
   "source": [
    "data.insert(0, \"Bias\", 1)\n",
    "data"
   ]
  },
  {
   "cell_type": "markdown",
   "id": "c4665038",
   "metadata": {},
   "source": [
    "# Divide the dataset into training and testing, with 0.85 and 0.15 ratio, respectively."
   ]
  },
  {
   "cell_type": "code",
   "execution_count": 8,
   "id": "97859586",
   "metadata": {},
   "outputs": [
    {
     "name": "stdout",
     "output_type": "stream",
     "text": [
      "==x (predictors)==\n",
      "Size: (200, 4)\n",
      "   Bias        TV     radio  newspaper\n",
      "0     1  0.967425  0.979066   1.774493\n",
      "1     1 -1.194379  1.080097   0.667903\n",
      "2     1 -1.512360  1.524637   1.779084\n",
      "3     1  0.051919  1.214806   1.283185\n",
      "4     1  0.393196 -0.839507   1.278593\n",
      "\n",
      "==y (target)==\n",
      "Size: (200,)\n",
      "0    1.548168\n",
      "1   -0.694304\n",
      "2   -0.905135\n",
      "3    0.858177\n",
      "4   -0.215143\n",
      "Name: sales, dtype: float64\n"
     ]
    }
   ],
   "source": [
    "x=data.drop(columns=['sales'])\n",
    "y=data['sales']\n",
    "print(f\"==x (predictors)==\\nSize: {x.shape}\\n{x.head()}\")\n",
    "print(f\"\\n==y (target)==\\nSize: {y.shape}\\n{y.head()}\")"
   ]
  },
  {
   "cell_type": "code",
   "execution_count": 9,
   "id": "205d2ab9",
   "metadata": {},
   "outputs": [],
   "source": [
    "x_train, x_test, y_train, y_test = train_test_split(x, y, test_size=0.15, random_state=42)"
   ]
  },
  {
   "cell_type": "code",
   "execution_count": 10,
   "id": "60f24886",
   "metadata": {},
   "outputs": [
    {
     "name": "stdout",
     "output_type": "stream",
     "text": [
      "x_train size: (170, 4)\n",
      "y_train size: (170,)\n",
      "\n",
      "x_test size: (30, 4)\n",
      "y_test size: (30,)\n"
     ]
    }
   ],
   "source": [
    "print(\"x_train size:\", x_train.shape)\n",
    "print(\"y_train size:\", y_train.shape)\n",
    "print(\"\\nx_test size:\", x_test.shape)\n",
    "print(\"y_test size:\", y_test.shape)"
   ]
  },
  {
   "cell_type": "markdown",
   "id": "10589911",
   "metadata": {},
   "source": [
    "# Fit the model on the training set. "
   ]
  },
  {
   "cell_type": "code",
   "execution_count": 11,
   "id": "48df4a0e",
   "metadata": {},
   "outputs": [],
   "source": [
    "#initialize weights\n",
    "def initialize_weights():\n",
    "    init_w = np.array([0.0, 0.0, 0.0, 0.0])\n",
    "    return init_w"
   ]
  },
  {
   "cell_type": "code",
   "execution_count": 12,
   "id": "904cf555",
   "metadata": {},
   "outputs": [],
   "source": [
    "#predicted values function\n",
    "def predict(x, weights): \n",
    "    return np.dot(x, weights)"
   ]
  },
  {
   "cell_type": "code",
   "execution_count": 13,
   "id": "80fa7fe9",
   "metadata": {},
   "outputs": [],
   "source": [
    "#cost function\n",
    "#y is the actual y value\n",
    "#y_hat is the predicted y value\n",
    "def compute_cost(y,y_hat):\n",
    "    y_shape = y.shape[0]\n",
    "    square = np.square(y_hat-y)\n",
    "    cost = np.sum(square)/(2*y_shape)\n",
    "    return cost"
   ]
  },
  {
   "cell_type": "code",
   "execution_count": 14,
   "id": "35ebed7e",
   "metadata": {},
   "outputs": [],
   "source": [
    "#compute gradient function\n",
    "\n",
    "def compute_gradient(x,y,y_hat,a):\n",
    "    y_shape = y.shape[0]\n",
    "    dot_product = np.dot(x.T,y_hat-y) \n",
    "    grad_res = a*dot_product/y_shape\n",
    "    return grad_res"
   ]
  },
  {
   "cell_type": "code",
   "execution_count": 15,
   "id": "5a49a739",
   "metadata": {},
   "outputs": [],
   "source": [
    "#update weights function\n",
    "def update_weights(weights, gradient):\n",
    "    return weights-gradient"
   ]
  },
  {
   "cell_type": "code",
   "execution_count": 16,
   "id": "63721732",
   "metadata": {},
   "outputs": [],
   "source": [
    "#function for gradient descent\n",
    "#a default value for later use\n",
    "def grad_descent(x, y, iteration, weights, a=0.01):\n",
    "    i=0\n",
    "    list_of_cost = []\n",
    "    list_of_weight = []\n",
    "    while i < iteration:\n",
    "        y_hat = predict(x, weights)\n",
    "        costs = compute_cost(y,y_hat)\n",
    "        list_of_cost.append(costs)\n",
    "        gradient = compute_gradient(x, y, y_hat, a)\n",
    "        weights = update_weights(weights,gradient)\n",
    "        list_of_weight.append(weights)\n",
    "        i += 1\n",
    "    return list_of_cost, list_of_weight"
   ]
  },
  {
   "cell_type": "code",
   "execution_count": 17,
   "id": "12724b0f",
   "metadata": {},
   "outputs": [],
   "source": [
    "#plot cost function\n",
    "\n",
    "def plot_cost(cost):\n",
    "    plt.title(\"Plot for Cost\")\n",
    "    plt.ylabel(\"Cost\")\n",
    "    plt.xlabel(\"Number of iteration\")\n",
    "    plt.plot(cost)\n",
    "    plt.show()"
   ]
  },
  {
   "cell_type": "code",
   "execution_count": 18,
   "id": "641475f5",
   "metadata": {},
   "outputs": [
    {
     "data": {
      "image/png": "[encoded data removed]",
      "text/plain": [
       "<Figure size 432x288 with 1 Axes>"
      ]
     },
     "metadata": {
      "needs_background": "light"
     },
     "output_type": "display_data"
    }
   ],
   "source": [
    "train_weights = initialize_weights()\n",
    "cost_of_train, actual_weights = grad_descent(x_train, y_train, 1000, train_weights)\n",
    "plot_cost(cost_of_train)"
   ]
  },
  {
   "cell_type": "code",
   "execution_count": 21,
   "id": "bddcbe38",
   "metadata": {},
   "outputs": [
    {
     "name": "stdout",
     "output_type": "stream",
     "text": [
      "0.051079827865479245\n"
     ]
    }
   ],
   "source": [
    "#predict y for train set\n",
    "predicted_y_train = predict(x_train, actual_weights[-1])\n",
    "y_train_cost = compute_cost(y_train, predicted_y_train)\n",
    "print(y_train_cost)"
   ]
  },
  {
   "cell_type": "code",
   "execution_count": 23,
   "id": "693cd04b",
   "metadata": {},
   "outputs": [
    {
     "name": "stdout",
     "output_type": "stream",
     "text": [
      "0.05244864926571236\n"
     ]
    }
   ],
   "source": [
    "#predict y for test set\n",
    "predicted_y_test = predict(x_test, actual_weights[-1])\n",
    "y_test_cost = compute_cost(y_test, predicted_y_test)\n",
    "print(y_test_cost)"
   ]
  },
  {
   "cell_type": "markdown",
   "id": "3d3f0783",
   "metadata": {},
   "source": [
    "# Revert to dataset from standardized form"
   ]
  },
  {
   "cell_type": "code",
   "execution_count": 24,
   "id": "efc58de4",
   "metadata": {},
   "outputs": [
    {
     "data": {
      "text/html": [
       "<div>\n",
       "<style scoped>\n",
       "    .dataframe tbody tr th:only-of-type {\n",
       "        vertical-align: middle;\n",
       "    }\n",
       "\n",
       "    .dataframe tbody tr th {\n",
       "        vertical-align: top;\n",
       "    }\n",
       "\n",
       "    .dataframe thead th {\n",
       "        text-align: right;\n",
       "    }\n",
       "</style>\n",
       "<table border=\"1\" class=\"dataframe\">\n",
       "  <thead>\n",
       "    <tr style=\"text-align: right;\">\n",
       "      <th></th>\n",
       "      <th>Bias</th>\n",
       "      <th>TV</th>\n",
       "      <th>radio</th>\n",
       "      <th>newspaper</th>\n",
       "      <th>sales</th>\n",
       "    </tr>\n",
       "  </thead>\n",
       "  <tbody>\n",
       "    <tr>\n",
       "      <th>0</th>\n",
       "      <td>1</td>\n",
       "      <td>0.967425</td>\n",
       "      <td>0.979066</td>\n",
       "      <td>1.774493</td>\n",
       "      <td>1.548168</td>\n",
       "    </tr>\n",
       "    <tr>\n",
       "      <th>1</th>\n",
       "      <td>1</td>\n",
       "      <td>-1.194379</td>\n",
       "      <td>1.080097</td>\n",
       "      <td>0.667903</td>\n",
       "      <td>-0.694304</td>\n",
       "    </tr>\n",
       "    <tr>\n",
       "      <th>2</th>\n",
       "      <td>1</td>\n",
       "      <td>-1.512360</td>\n",
       "      <td>1.524637</td>\n",
       "      <td>1.779084</td>\n",
       "      <td>-0.905135</td>\n",
       "    </tr>\n",
       "    <tr>\n",
       "      <th>3</th>\n",
       "      <td>1</td>\n",
       "      <td>0.051919</td>\n",
       "      <td>1.214806</td>\n",
       "      <td>1.283185</td>\n",
       "      <td>0.858177</td>\n",
       "    </tr>\n",
       "    <tr>\n",
       "      <th>4</th>\n",
       "      <td>1</td>\n",
       "      <td>0.393196</td>\n",
       "      <td>-0.839507</td>\n",
       "      <td>1.278593</td>\n",
       "      <td>-0.215143</td>\n",
       "    </tr>\n",
       "    <tr>\n",
       "      <th>...</th>\n",
       "      <td>...</td>\n",
       "      <td>...</td>\n",
       "      <td>...</td>\n",
       "      <td>...</td>\n",
       "      <td>...</td>\n",
       "    </tr>\n",
       "    <tr>\n",
       "      <th>195</th>\n",
       "      <td>1</td>\n",
       "      <td>-1.267759</td>\n",
       "      <td>-1.317724</td>\n",
       "      <td>-0.769287</td>\n",
       "      <td>-1.230964</td>\n",
       "    </tr>\n",
       "    <tr>\n",
       "      <th>196</th>\n",
       "      <td>1</td>\n",
       "      <td>-0.615491</td>\n",
       "      <td>-1.236899</td>\n",
       "      <td>-1.031011</td>\n",
       "      <td>-0.828469</td>\n",
       "    </tr>\n",
       "    <tr>\n",
       "      <th>197</th>\n",
       "      <td>1</td>\n",
       "      <td>0.348934</td>\n",
       "      <td>-0.940539</td>\n",
       "      <td>-1.109069</td>\n",
       "      <td>-0.234310</td>\n",
       "    </tr>\n",
       "    <tr>\n",
       "      <th>198</th>\n",
       "      <td>1</td>\n",
       "      <td>1.590574</td>\n",
       "      <td>1.261955</td>\n",
       "      <td>1.636743</td>\n",
       "      <td>2.199827</td>\n",
       "    </tr>\n",
       "    <tr>\n",
       "      <th>199</th>\n",
       "      <td>1</td>\n",
       "      <td>0.990720</td>\n",
       "      <td>-0.987687</td>\n",
       "      <td>-1.003461</td>\n",
       "      <td>-0.119311</td>\n",
       "    </tr>\n",
       "  </tbody>\n",
       "</table>\n",
       "<p>200 rows × 5 columns</p>\n",
       "</div>"
      ],
      "text/plain": [
       "     Bias        TV     radio  newspaper     sales\n",
       "0       1  0.967425  0.979066   1.774493  1.548168\n",
       "1       1 -1.194379  1.080097   0.667903 -0.694304\n",
       "2       1 -1.512360  1.524637   1.779084 -0.905135\n",
       "3       1  0.051919  1.214806   1.283185  0.858177\n",
       "4       1  0.393196 -0.839507   1.278593 -0.215143\n",
       "..    ...       ...       ...        ...       ...\n",
       "195     1 -1.267759 -1.317724  -0.769287 -1.230964\n",
       "196     1 -0.615491 -1.236899  -1.031011 -0.828469\n",
       "197     1  0.348934 -0.940539  -1.109069 -0.234310\n",
       "198     1  1.590574  1.261955   1.636743  2.199827\n",
       "199     1  0.990720 -0.987687  -1.003461 -0.119311\n",
       "\n",
       "[200 rows x 5 columns]"
      ]
     },
     "execution_count": 24,
     "metadata": {},
     "output_type": "execute_result"
    }
   ],
   "source": [
    "copy_of_data = data.drop(columns=['Bias'])\n",
    "data[data.columns[1:]] = data_mean + (copy_of_data * data_std)\n",
    "\n",
    "data"
   ]
  },
  {
   "cell_type": "markdown",
   "id": "1995ccf9",
   "metadata": {},
   "source": [
    "# Divide dataset into testing and training"
   ]
  },
  {
   "cell_type": "code",
   "execution_count": 25,
   "id": "649c9560",
   "metadata": {},
   "outputs": [],
   "source": [
    "original_x_data = data.drop(columns=['sales'])\n",
    "original_y_data = data['sales']"
   ]
  },
  {
   "cell_type": "markdown",
   "id": "acfdb6c6",
   "metadata": {},
   "source": [
    "# Cost results"
   ]
  },
  {
   "cell_type": "code",
   "execution_count": 30,
   "id": "17dcb045",
   "metadata": {},
   "outputs": [
    {
     "data": {
      "text/plain": [
       "0.05128515107551419"
      ]
     },
     "execution_count": 30,
     "metadata": {},
     "output_type": "execute_result"
    }
   ],
   "source": [
    "predicted_y = predict(original_x_data,actual_weights[-1])\n",
    "original_data_cost = compute_cost(predicted_y, original_y_data)\n",
    "original_data_cost"
   ]
  },
  {
   "cell_type": "markdown",
   "id": "70e255ae",
   "metadata": {},
   "source": [
    "It is noticeable that the cost we got for the initial data set is not that high compared to the cost we got from our prediction. This only indicates that there is a little difference between the actual and predicted values, hence the calculated weights that were used in the model is good or fit to be used in predicting the sales value."
   ]
  },
  {
   "cell_type": "code",
   "execution_count": 563,
   "id": "89337902",
   "metadata": {},
   "outputs": [],
   "source": [
    "#--------------------------------------------------------------------------------------------------------------------------"
   ]
  },
  {
   "cell_type": "markdown",
   "id": "dec85dd3",
   "metadata": {},
   "source": [
    "# Solution to the Questions"
   ]
  },
  {
   "cell_type": "markdown",
   "id": "29331dfd",
   "metadata": {},
   "source": [
    "### 1. What are the optimal weights found by your implemented gradient descent? Plug it into the linear model: ℎ! (𝑥) = 𝜃0 + 𝜃1 𝑇𝑉 + 𝜃2𝑅𝑎𝑑𝑖𝑜 + 𝜃3𝑁𝑒𝑤𝑠𝑝𝑎𝑝𝑒𝑟 What are your interpretations regarding the formed linear model?"
   ]
  },
  {
   "cell_type": "code",
   "execution_count": 31,
   "id": "96911469",
   "metadata": {},
   "outputs": [
    {
     "data": {
      "text/plain": [
       "array([4.35589486e-04, 7.37383146e-01, 5.36307180e-01, 3.14254020e-03])"
      ]
     },
     "execution_count": 31,
     "metadata": {},
     "output_type": "execute_result"
    }
   ],
   "source": [
    "#I used the function initialized weights since they return the np.array([0.0, 0.0, 0.0, 0.0]). \n",
    "#We use 5000 iterations because 50000 takes too long to load.\n",
    "weights = initialize_weights()\n",
    "cost_of_train, actual_weights = grad_descent(x_train, y_train, 5000, weights)\n",
    "actual_weights[-1]"
   ]
  },
  {
   "cell_type": "markdown",
   "id": "09953377",
   "metadata": {},
   "source": [
    "Base on the result array above, we'll have:\n",
    "𝜃0 = 4.35589486e-04 \n",
    "𝜃1 = 7.37383146e-01 \n",
    "𝜃2 = 5.36307180e-01\n",
    "𝜃3 = 3.14254020e-03"
   ]
  },
  {
   "cell_type": "markdown",
   "id": "934bcc06",
   "metadata": {},
   "source": [
    "The linear model is: ℎ𝜃(𝑥) = 4.35589486e-04 + 7.37383146e-01 * 𝑇𝑉 + 5.36307180e-01 * 𝑅𝑎𝑑𝑖𝑜 + 3.14254020e-03 * 𝑁𝑒𝑤𝑠𝑝𝑎𝑝𝑒𝑟\n",
    "\n",
    "Looking at the linear model, we can observe that the TV is the greatest predictor compared to Radio and Newspaper. Next to TV is Radio then followed by Newspaper."
   ]
  },
  {
   "cell_type": "markdown",
   "id": "6e4d4a47",
   "metadata": {},
   "source": [
    "### 2. Provide a scatter plot of the y_hat(i) and y(i) for both the train and test set. Is there a trend? Provide an r2 score (also available in sklearn)"
   ]
  },
  {
   "cell_type": "code",
   "execution_count": 32,
   "id": "49270317",
   "metadata": {},
   "outputs": [
    {
     "name": "stdout",
     "output_type": "stream",
     "text": [
      "The R2 score using train set is: 0.8936793584593188\n"
     ]
    },
    {
     "data": {
      "image/png": "[encoded data removed]",
      "text/plain": [
       "<Figure size 432x288 with 1 Axes>"
      ]
     },
     "metadata": {
      "needs_background": "light"
     },
     "output_type": "display_data"
    }
   ],
   "source": [
    "new_predicted_y_train = predict(x_train, actual_weights[-1])\n",
    "plt.title(\"Predicted Y train and Actual Y Scatter plot\")\n",
    "plt.xlabel(\"Predicted Y train\")\n",
    "plt.ylabel(\"Actual Y\")\n",
    "sns.scatterplot(x=new_predicted_y_train, y=y_train)\n",
    "r2_train = r2_score(y_train, new_predicted_y_train)\n",
    "print(\"The R2 score using train set is:\", r2_train)"
   ]
  },
  {
   "cell_type": "code",
   "execution_count": 33,
   "id": "ed22a2a2",
   "metadata": {},
   "outputs": [
    {
     "name": "stdout",
     "output_type": "stream",
     "text": [
      "The R2 score using test set is: 0.911027570209169\n"
     ]
    },
    {
     "data": {
      "image/png": "[encoded data removed]",
      "text/plain": [
       "<Figure size 432x288 with 1 Axes>"
      ]
     },
     "metadata": {
      "needs_background": "light"
     },
     "output_type": "display_data"
    }
   ],
   "source": [
    "new_predicted_y_test = predict(x_test, actual_weights[-1])\n",
    "\n",
    "plt.title(\"Predicted Y test and Actual Y Scatter plot\")\n",
    "plt.xlabel(\"Predicted Y test\")\n",
    "plt.ylabel(\"Actual Y\")\n",
    "sns.scatterplot(x=new_predicted_y_test, y=y_test)\n",
    "r2_train = r2_score(y_test, new_predicted_y_test)\n",
    "print(\"The R2 score using test set is:\", r2_train)"
   ]
  },
  {
   "cell_type": "markdown",
   "id": "495bfad7",
   "metadata": {},
   "source": [
    "### 3. What happens to the error, r2, and cost as the number of iterations increase? Show your data and proof. You can alternatively plot your result data for visualization and check until 50000 iterations or more (actually)."
   ]
  },
  {
   "cell_type": "markdown",
   "id": "06e1dccf",
   "metadata": {},
   "source": [
    "Getting the r2, cost and error for each iterations (500, 1000, 10000) and analyze."
   ]
  },
  {
   "cell_type": "code",
   "execution_count": 37,
   "id": "61a93500",
   "metadata": {},
   "outputs": [],
   "source": [
    "weights = initialize_weights()\n",
    "cost_of_train_3, actual_weights_3 = grad_descent(x_train, y_train, 50000, weights)"
   ]
  },
  {
   "cell_type": "code",
   "execution_count": 38,
   "id": "78e909a2",
   "metadata": {},
   "outputs": [
    {
     "name": "stdout",
     "output_type": "stream",
     "text": [
      "The Cost for 500 iteration is:  0.05118539064304033\n",
      "The r2 score for 500 iteration is : 0.896415695070808\n",
      "The MAE for 500 iteration is : 0.2413453935318983\n"
     ]
    }
   ],
   "source": [
    "#500 iterations\n",
    "predicted_y_500 = predict(x, actual_weights_3[499])\n",
    "r2_score_500 = r2_score(y, predicted_y_500)\n",
    "MAE_500 = mean_absolute_error(y, predicted_y_500)\n",
    "print(\"The Cost for 500 iteration is: \", cost_of_train_3[499])\n",
    "print(\"The r2 score for 500 iteration is :\", r2_score_500)\n",
    "print(\"The MAE for 500 iteration is :\", MAE_500)"
   ]
  },
  {
   "cell_type": "code",
   "execution_count": 39,
   "id": "a653ef94",
   "metadata": {},
   "outputs": [
    {
     "name": "stdout",
     "output_type": "stream",
     "text": [
      "The Cost for 1000 iteration is:  0.051079831065374906\n",
      "The r2 score 1000 500 iteration is : 0.8969142691949463\n",
      "The MAE for 1000 iteration is : 0.2399596550148806\n"
     ]
    }
   ],
   "source": [
    "#1000 iterations\n",
    "predicted_y_1000 = predict(x, actual_weights_3[999])\n",
    "r2_score_1000 = r2_score(y, predicted_y_1000)\n",
    "MAE_1000 = mean_absolute_error(y, predicted_y_1000)\n",
    "print(\"The Cost for 1000 iteration is: \", cost_of_train_3[999])\n",
    "print(\"The r2 score 1000 500 iteration is :\", r2_score_1000)\n",
    "print(\"The MAE for 1000 iteration is :\", MAE_1000)"
   ]
  },
  {
   "cell_type": "code",
   "execution_count": 40,
   "id": "59d7cad4",
   "metadata": {},
   "outputs": [
    {
     "name": "stdout",
     "output_type": "stream",
     "text": [
      "The Cost for 10000 iteration is:  0.051079554729786945\n",
      "The r2 score for 10000 iteration is : 0.8969225203073516\n",
      "The MAE for 10000 iteration is : 0.23988863657724158\n"
     ]
    }
   ],
   "source": [
    "#10000 iterations\n",
    "predicted_y_10000 = predict(x, actual_weights_3[9999])\n",
    "r2_score_10000 = r2_score(y, predicted_y_10000)\n",
    "MAE_10000 = mean_absolute_error(y, predicted_y_10000)\n",
    "print(\"The Cost for 10000 iteration is: \", cost_of_train_3[9999])\n",
    "print(\"The r2 score for 10000 iteration is :\", r2_score_10000)\n",
    "print(\"The MAE for 10000 iteration is :\", MAE_10000)"
   ]
  },
  {
   "cell_type": "markdown",
   "id": "a1e47c1d",
   "metadata": {},
   "source": [
    "It can be observed base on the results of cost, r2 score and MAE that the higher the number of iteration, the r2 score increases while the cost and MAE decreases. However, these differences are really small. "
   ]
  },
  {
   "cell_type": "markdown",
   "id": "725f9a25",
   "metadata": {},
   "source": [
    "### 4. Once you determine the optimal number of iterations, check the effect on the cost and error as you change the learning rate. The common learning rates in machine learning include 0.1, 0.01, 0.001, 0.0001, 0.2 but you have the option to include others. Visualize the cost function (vs the optimal number of iterations) of each learning rate in ONLY ONE PLOT. Provide your analysis. "
   ]
  },
  {
   "cell_type": "code",
   "execution_count": 41,
   "id": "28628611",
   "metadata": {},
   "outputs": [
    {
     "name": "stdout",
     "output_type": "stream",
     "text": [
      "The optimal iteration is at:  395\n"
     ]
    }
   ],
   "source": [
    "#base on the results above 0.051 is the optimal costs because it is where the cost is nearly flat\n",
    "#round off the train costs to three decimal places\n",
    "round_cost = np.round(cost_of_train, 3)\n",
    "\n",
    "#find the iteration where the cost is equal to 0.051\n",
    "optimal_iteration = np.where(round_cost == 0.051)\n",
    "#we use optimal_iteration[0][0] because optimal_iteration is a tuple and we only need to \n",
    "#get the first iteration where the cost is eequal to 0.51\n",
    "print(\"The optimal iteration is at: \", optimal_iteration[0][0])"
   ]
  },
  {
   "cell_type": "code",
   "execution_count": 42,
   "id": "393b6b36",
   "metadata": {},
   "outputs": [
    {
     "name": "stdout",
     "output_type": "stream",
     "text": [
      "When alpha rate is:  0.1\n",
      "Cost:  0.051079554729786945\n",
      "R2: 0.8969225203072294\n",
      "MAE: 0.23988863657864465\n",
      "--------------------------\n",
      "When alpha rate is:  0.01\n",
      "Cost:  0.05150025003966412\n",
      "R2: 0.8953717254069102\n",
      "MAE: 0.24272053055351145\n",
      "--------------------------\n",
      "When alpha rate is:  0.001\n",
      "Cost:  0.23622673852442644\n",
      "R2: 0.5060374784393626\n",
      "MAE: 0.563782776791368\n",
      "--------------------------\n",
      "When alpha rate is:  0.0001\n",
      "Cost:  0.4453642899876518\n",
      "R2: 0.07286799176886327\n",
      "MAE: 0.7890090157139464\n",
      "--------------------------\n",
      "When alpha rate is:  0.2\n",
      "Cost:  0.051079554729786945\n",
      "R2: 0.8969225203073515\n",
      "MAE: 0.23988863657724102\n",
      "--------------------------\n"
     ]
    }
   ],
   "source": [
    "alpha = [0.1, 0.01, 0.001, 0.0001, 0.2]\n",
    "costs_list = []\n",
    "optimal_i = optimal_iteration[0][0]\n",
    "\n",
    "for i in alpha:\n",
    "    print(\"When alpha rate is: \", i)\n",
    "    costs_train, i_actual_weights = grad_descent(x_train, y_train, optimal_i, weights, a=i)\n",
    "    costs_list.append(costs_train)\n",
    "    \n",
    "    y_train_predicted = predict(x_train, i_actual_weights[-1])\n",
    "    cost_4 = compute_cost(y_train, y_train_predicted)\n",
    "    predicted_y = predict(x, i_actual_weights[-1])\n",
    "    r_2_score = r2_score(y, predicted_y)\n",
    "    MAE = mean_absolute_error(y, predicted_y)\n",
    "    print(\"Cost: \", costs_train[-1])\n",
    "    print(\"R2:\", r_2_score)\n",
    "    print(\"MAE:\", MAE)\n",
    "    print(\"--------------------------\")"
   ]
  },
  {
   "cell_type": "code",
   "execution_count": 43,
   "id": "2e7ce0cd",
   "metadata": {
    "scrolled": true
   },
   "outputs": [
    {
     "data": {
      "text/plain": [
       "<AxesSubplot:title={'center':'Cost of different alpha/learning rates'}, xlabel='Number of Iteration', ylabel='Cost'>"
      ]
     },
     "execution_count": 43,
     "metadata": {},
     "output_type": "execute_result"
    },
    {
     "data": {
      "image/png": "[encoded data removed]",
      "text/plain": [
       "<Figure size 432x288 with 1 Axes>"
      ]
     },
     "metadata": {
      "needs_background": "light"
     },
     "output_type": "display_data"
    }
   ],
   "source": [
    "#plot\n",
    "\n",
    "data_cost = pd.DataFrame(costs_list).T\n",
    "data_cost.columns = alpha\n",
    "plt.title(\"Cost of different alpha/learning rates\")\n",
    "plt.xlabel(\"Number of Iteration\")\n",
    "plt.ylabel(\"Cost\")\n",
    "sns.lineplot(data=data_cost)"
   ]
  },
  {
   "cell_type": "markdown",
   "id": "b330ffec",
   "metadata": {},
   "source": [
    "It can be observed from the graph that the 0.2 reached the lowest cost the fastest and it was followed by 0.1 then followed by 0.01. While, 0.001 is linear and lastly, 0.0001 did not achieve the lowest cost at 395 iteration. Both 0.001 and 0.0001 did not reach lowest cost within the optimal iteration."
   ]
  },
  {
   "cell_type": "markdown",
   "id": "9ab2fc2d",
   "metadata": {},
   "source": [
    "### 5. Is there a relationship on the learning rate and the number of iterations?\n",
    "\n"
   ]
  },
  {
   "cell_type": "markdown",
   "id": "0d1c5e65",
   "metadata": {},
   "source": [
    "Base on the previous graph, if the learning rate is higher, then the number of iteration to get the optimal cost will decrease. Hence, the learning rate and the number of iteration has an inversely proporional relationship."
   ]
  },
  {
   "cell_type": "markdown",
   "id": "32d15308",
   "metadata": {},
   "source": [
    "### 6. Compare the results with the results of ordinary least squares function"
   ]
  },
  {
   "cell_type": "code",
   "execution_count": 44,
   "id": "904a927a",
   "metadata": {},
   "outputs": [
    {
     "data": {
      "text/plain": [
       "array([ 0.44441111,  1.30168679,  1.43691235, -0.66730857,  1.55533551,\n",
       "       -0.19033088,  1.34451196, -1.25613029, -0.07239572,  0.21395403,\n",
       "       -0.9477649 , -1.4143734 ,  0.04187445, -0.9794427 , -0.82941714,\n",
       "       -0.35860114, -1.02352749,  0.43360346, -0.72253191,  0.92669059,\n",
       "        1.04134773, -0.18638735, -0.32341141,  1.3765889 , -1.1785509 ,\n",
       "       -1.57241482,  1.28461088, -0.38557956, -0.92832092, -1.05226106])"
      ]
     },
     "execution_count": 44,
     "metadata": {},
     "output_type": "execute_result"
    }
   ],
   "source": [
    "linear_regression = LinearRegression().fit(x_train,y_train)\n",
    "linear_predicted_y = linear_regression.predict(x_test)\n",
    "linear_predicted_y"
   ]
  },
  {
   "cell_type": "code",
   "execution_count": 45,
   "id": "dbdfb73b",
   "metadata": {},
   "outputs": [
    {
     "name": "stdout",
     "output_type": "stream",
     "text": [
      "R2 score:  0.9110275702091715\n"
     ]
    }
   ],
   "source": [
    "#r2 score of the linear regression\n",
    "score_r2 = linear_regression.score(x_test,y_test)\n",
    "print(\"R2 score: \", score_r2)"
   ]
  },
  {
   "cell_type": "code",
   "execution_count": 46,
   "id": "721d2e9d",
   "metadata": {},
   "outputs": [
    {
     "data": {
      "text/plain": [
       "array([ 0.45632242,  1.28440583,  1.42255522, -0.6482762 ,  1.47624351,\n",
       "       -0.16993274,  1.30064552, -1.2352999 , -0.07222912,  0.21357984,\n",
       "       -0.96178875, -1.37293563,  0.1208764 , -0.98922631, -0.79911416,\n",
       "       -0.33197871, -0.9948767 ,  0.40902538, -0.70284619,  0.88597173,\n",
       "        1.06582203, -0.09822649, -0.35109566,  1.3892682 , -1.1769486 ,\n",
       "       -1.53434624,  1.2500434 , -0.39232188, -0.90517284, -1.0666816 ])"
      ]
     },
     "execution_count": 46,
     "metadata": {},
     "output_type": "execute_result"
    }
   ],
   "source": [
    "#using the weight of the optimal iteration of the gradient descent\n",
    "optimal_predicted_y = predict(x_test, actual_weights[394])\n",
    "optimal_predicted_y"
   ]
  },
  {
   "cell_type": "code",
   "execution_count": 47,
   "id": "b132c43e",
   "metadata": {},
   "outputs": [
    {
     "name": "stdout",
     "output_type": "stream",
     "text": [
      "R2 score is:  0.906288920753653\n"
     ]
    }
   ],
   "source": [
    "#calculate the r2 score\n",
    "optimal_r2_score = r2_score(y_test, optimal_predicted_y)\n",
    "print(\"R2 score is: \", optimal_r2_score)"
   ]
  }
 ],
 "metadata": {
  "kernelspec": {
   "display_name": "Python 3 (ipykernel)",
   "language": "python",
   "name": "python3"
  },
  "language_info": {
   "codemirror_mode": {
    "name": "ipython",
    "version": 3
   },
   "file_extension": ".py",
   "mimetype": "text/x-python",
   "name": "python",
   "nbconvert_exporter": "python",
   "pygments_lexer": "ipython3",
   "version": "3.9.12"
  }
 },
 "nbformat": 4,
 "nbformat_minor": 5
}
